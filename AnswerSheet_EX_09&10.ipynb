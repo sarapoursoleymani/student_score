{
 "cells": [
  {
   "cell_type": "markdown",
   "id": "fb7a8054",
   "metadata": {},
   "source": [
    "<div style=\"color: white;padding-top:18px;text-align:center;background-color:#8B008B;border-radius:15px;border: 1px solid white;\"> \n",
    "    <h3>Exercise 10 (score:200+50)</h3>\n",
    "</div>"
   ]
  },
  {
   "cell_type": "markdown",
   "id": "bd5458df",
   "metadata": {},
   "source": [
    "<div style=\"color: black;font-family:Georgia;padding-top:18px;text-align:left;background-color:lightskyblue;border-radius:15px;border: 2px solid cornflowerblue;\">\n",
    "    <h4>Question 01 (Function)(100):</h4>\n",
    "    <p>\n",
    "        Implement a recursive Python function that asks for a student's score \n",
    "        until it receives a value between 0 and 20, then returns that valid score.\n",
    "    </p>\n",
    "</div>"
   ]
  },
  {
   "cell_type": "code",
   "execution_count": 6,
   "id": "ff88e96c",
   "metadata": {},
   "outputs": [
    {
     "name": "stdout",
     "output_type": "stream",
     "text": [
      "valid score: 19.0\n"
     ]
    }
   ],
   "source": [
    "def student_score():\n",
    "    score =float(input(\"enter the score: \"))\n",
    "    if 0 <= score <= 20:\n",
    "        return score\n",
    "    else:\n",
    "        print(\"not found\")\n",
    "        return student_score\n",
    "valid_score = student_score()\n",
    "print(f\"valid score: {valid_score}\")"
   ]
  },
  {
   "cell_type": "markdown",
   "id": "014bb5de",
   "metadata": {},
   "source": [
    "<div style=\"color: black;font-family:Georgia;padding-top:18px;text-align:left;background-color:lightskyblue;border-radius:15px;border: 2px solid cornflowerblue;\">\n",
    "    <h4>Question 02 (Function)(100):</h4>\n",
    "    <p>\n",
    "        Create a Python function that recursively multiplies all the numbers between two user provided integers.\n",
    "    </p>\n",
    "</div>"
   ]
  },
  {
   "cell_type": "code",
   "execution_count": 3,
   "id": "575abb33",
   "metadata": {},
   "outputs": [
    {
     "name": "stdout",
     "output_type": "stream",
     "text": [
      "24\n"
     ]
    }
   ],
   "source": [
    "def recursive_multiply(num1, num2):\n",
    "    if num1 > num2:\n",
    "        return 1\n",
    "    return num1 * recursive_multiply(num1 + 1, num2)\n",
    "num1 = int(input(\"enter the num1: \"))\n",
    "num2 = int(input(\"enter the num2: \"))\n",
    "result = recursive_multiply(num1, num2)\n",
    "print(result)"
   ]
  },
  {
   "cell_type": "markdown",
   "id": "293056e3",
   "metadata": {},
   "source": [
    "<h2 style=\"color: blue:; background-color: purple\">You automaticly lose the chance you dont take.Trust yourself. you can do this</h2>"
   ]
  }
 ],
 "metadata": {
  "kernelspec": {
   "display_name": "Python 3 (ipykernel)",
   "language": "python",
   "name": "python3"
  },
  "language_info": {
   "codemirror_mode": {
    "name": "ipython",
    "version": 3
   },
   "file_extension": ".py",
   "mimetype": "text/x-python",
   "name": "python",
   "nbconvert_exporter": "python",
   "pygments_lexer": "ipython3",
   "version": "3.12.4"
  }
 },
 "nbformat": 4,
 "nbformat_minor": 5
}
